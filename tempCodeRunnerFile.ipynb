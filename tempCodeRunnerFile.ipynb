from matplotlib.colors import ListedColormap

# Select two features for visualization
X_pair = X_scaled[:, 1:3]  # Using first two features for simplicity
X_train_pair, X_test_pair, y_train_pair, y_test_pair = train_test_split(X_pair, y, test_size=0.2, random_state=42)

# Train KNN on the selected feature pair
knn_model.fit(X_train_pair, y_train_pair)

# Create color maps
cmap_light = ListedColormap(['#FFAAAA', '#AAAAFF'])
cmap_bold = ['#FF0000', '#0000FF']

# Plot decision boundaries
x_min, x_max = X_pair[:, 0].min() - 1, X_pair[:, 0].max() + 1
y_min, y_max = X_pair[:, 1].min() - 1, X_pair[:, 1].max() + 1
xx, yy = np.meshgrid(np.arange(x_min, x_max, 0.1),
                     np.arange(y_min, y_max, 0.1))
Z = knn_model.predict(np.c_[xx.ravel(), yy.ravel()])
Z = Z.reshape(xx.shape)
plt.figure()
plt.contourf(xx, yy, Z, cmap=cmap_light)

# Plot training points
sns.scatterplot(x=X_train_pair[:, 0], y=X_train_pair[:, 1], hue=y_train_pair, palette=cmap_bold, alpha=1.0, edgecolor='k')
plt.xlabel(data.columns[1])
plt.ylabel(data.columns[2])
plt.title('KNN Decision Boundaries')
plt.show()
